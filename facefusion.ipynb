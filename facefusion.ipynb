{
  "cells": [
    {
      "cell_type": "markdown",
      "metadata": {
        "id": "hgVreYca3LcQ"
      },
      "source": [
        "FaceFusion 2.0.0"
      ]
    },
    {
      "cell_type": "markdown",
      "metadata": {
        "id": "28qKtK7F3bzl"
      },
      "source": [
        "Install"
      ]
    },
    {
      "cell_type": "code",
      "execution_count": 1,
      "metadata": {
        "id": "ZlrnUA3i3gMB",
        "outputId": "04261711-17d5-4ac0-dafc-65a48af1033e",
        "colab": {
          "base_uri": "https://localhost:8080/"
        }
      },
      "outputs": [
        {
          "output_type": "stream",
          "name": "stdout",
          "text": [
            "Cloning into 'facefusion'...\n",
            "remote: Enumerating objects: 989, done.\u001b[K\n",
            "remote: Total 989 (delta 0), reused 0 (delta 0), pack-reused 989 (from 1)\u001b[K\n",
            "Receiving objects: 100% (989/989), 14.86 MiB | 31.44 MiB/s, done.\n",
            "Resolving deltas: 100% (579/579), done.\n",
            "/content/facefusion\n",
            "\u001b[2K   \u001b[90m━━━━━━━━━━━━━━━━━━━━━━━━━━━━━━━━━━━━━━━━\u001b[0m \u001b[32m58.4/58.4 kB\u001b[0m \u001b[31m5.3 MB/s\u001b[0m eta \u001b[36m0:00:00\u001b[0m\n",
            "\u001b[?25husage: install.py [-h] [--onnxruntime {default,cuda-12.2,cuda-11.8,openvino,rocm-5.4.2,rocm-5.6}]\n",
            "                  [--skip-conda] [-v]\n",
            "install.py: error: argument --onnxruntime: invalid choice: 'cuda' (choose from 'default', 'cuda-12.2', 'cuda-11.8', 'openvino', 'rocm-5.4.2', 'rocm-5.6')\n"
          ]
        }
      ],
      "source": [
        "!git clone https://github.com/AWMANW/facefusion\n",
        "%cd /content/facefusion\n",
        "!python install.py --torch cuda --onnxruntime cuda"
      ]
    },
    {
      "cell_type": "markdown",
      "metadata": {
        "id": "J6HT5NpVcZOC"
      },
      "source": [
        "Setup"
      ]
    },
    {
      "cell_type": "code",
      "execution_count": 2,
      "metadata": {
        "id": "YVHiNI-bb6IB",
        "outputId": "89e187d7-d885-48fa-b570-3bd40a40c2c4",
        "colab": {
          "base_uri": "https://localhost:8080/"
        }
      },
      "outputs": [
        {
          "output_type": "stream",
          "name": "stdout",
          "text": [
            "# remote.moe:22 SSH-2.0-Go\n"
          ]
        }
      ],
      "source": [
        "!ssh-keygen -q -t rsa -N '' -f ~/.ssh/id_rsa <<<y\n",
        "!ssh-keyscan -t rsa remote.moe >> ~/.ssh/known_hosts"
      ]
    },
    {
      "cell_type": "markdown",
      "metadata": {
        "id": "vsfWtUCSGrrl"
      },
      "source": [
        "Run"
      ]
    },
    {
      "cell_type": "code",
      "execution_count": 3,
      "metadata": {
        "id": "YVHiNI-bb6IA",
        "outputId": "a68ee999-43fd-4e75-94b9-8ca020e5f227",
        "colab": {
          "base_uri": "https://localhost:8080/"
        }
      },
      "outputs": [
        {
          "output_type": "stream",
          "name": "stdout",
          "text": [
            "/content/facefusion\n",
            "Hello!\n",
            "remote.moe (the service) is closed down until a viable authentication scheme is implemented\n",
            "\n",
            "https://github.com/fasmide/remotemoe/discussions/14\n",
            "Connection to remote.moe closed by remote host.\n",
            "Connection to remote.moe closed.\n",
            "Traceback (most recent call last):\n",
            "  File \"/content/facefusion/run.py\", line 3, in <module>\n",
            "    from facefusion import core\n",
            "  File \"/content/facefusion/facefusion/core.py\", line 10, in <module>\n",
            "    import onnxruntime\n",
            "ModuleNotFoundError: No module named 'onnxruntime'\n"
          ]
        }
      ],
      "source": [
        "%cd /content/facefusion\n",
        "!python run.py --execution-providers cuda & ssh -R 80:localhost:7860 remote.moe"
      ]
    }
  ],
  "metadata": {
    "accelerator": "GPU",
    "colab": {
      "provenance": [],
      "gpuType": "T4"
    },
    "kernelspec": {
      "display_name": "Python 3",
      "name": "python3"
    },
    "language_info": {
      "name": "python"
    }
  },
  "nbformat": 4,
  "nbformat_minor": 0
}